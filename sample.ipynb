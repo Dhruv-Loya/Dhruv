x=10
y=15
A=x*y
print(A)
